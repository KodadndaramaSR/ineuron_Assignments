{
 "cells": [
  {
   "cell_type": "code",
   "execution_count": 1,
   "id": "53b1519d",
   "metadata": {},
   "outputs": [
    {
     "name": "stdout",
     "output_type": "stream",
     "text": [
      "[3073, 2562, 2051, 2569, 2058, 3087, 2576, 3094, 2583, 2072, 3101, 2079, 3108, 2597, 2086, 2604, 2093, 3122, 2611, 3129, 2618, 2107, 3136, 2114, 3143, 2632, 2121, 2639, 2128, 3157, 2646, 3164, 2653, 2142, 3171, 2149, 3178, 2667, 2156, 2674, 2163, 3192, 2681, 3199, 2688, 2177, 2184, 2702, 2191, 2709, 2198, 2716, 2723, 2212, 2219, 2737, 2226, 2744, 2233, 2751, 2758, 2247, 2254, 2772, 2261, 2779, 2268, 2786, 2793, 2282, 2289, 2807, 2296, 2814, 2303, 2821, 2828, 2317, 2324, 2842, 2331, 2849, 2338, 2856, 2863, 2352, 2359, 2877, 2366, 2884, 2373, 2891, 2898, 2387, 2394, 2912, 2401, 2919, 2408, 2926, 2933, 2422, 2429, 2947, 2436, 2954, 2443, 2961, 2968, 2457, 2464, 2982, 2471, 2989, 2478, 2996, 3003, 2492, 2499, 3017, 2506, 3024, 2513, 2002, 3031, 2009, 3038, 2527, 2016, 2534, 2023, 3052, 2541, 3059, 2548, 2037, 3066, 2044]\n"
     ]
    }
   ],
   "source": [
    "# Answer for question number 1.\n",
    "a = []\n",
    "b = []\n",
    "for i in range(2000,3201):\n",
    "    if i%7 == 0 :\n",
    "        a.append(i)\n",
    "    if i%5 == 0 :\n",
    "        b.append(i)\n",
    "a = set(a)\n",
    "b= set(b)\n",
    "x = list(a-b)\n",
    "print(x)"
   ]
  },
  {
   "cell_type": "code",
   "execution_count": 4,
   "id": "c0f2da61",
   "metadata": {},
   "outputs": [
    {
     "name": "stdout",
     "output_type": "stream",
     "text": [
      "Enter your first name: kadanda\n",
      "Enter your last name: rama\n",
      "Name in reverse order is:  adnadak amar\n"
     ]
    }
   ],
   "source": [
    "# Answer for question number 2.\n",
    "first_name = input(\"Enter your first name: \")\n",
    "last_name = input(\"Enter your last name: \")\n",
    "print(\"Name in reverse order is: \",first_name[::-1] + \" \" + last_name[::-1])"
   ]
  },
  {
   "cell_type": "code",
   "execution_count": 3,
   "id": "88c37f24",
   "metadata": {},
   "outputs": [
    {
     "name": "stdout",
     "output_type": "stream",
     "text": [
      "Volume of sphere with diameter 12 cm is 150.79644737231007 cubic centmeters\n"
     ]
    }
   ],
   "source": [
    "# Answer for question number 3.\n",
    "import numpy as np\n",
    "diameter = d = 12\n",
    "radius = r = d/2\n",
    "\n",
    "Volume = V = (4/3)*np.pi*r**2\n",
    "\n",
    "print(\"Volume of sphere with diameter 12 cm is \" + str(V) + \" cubic centmeters\")"
   ]
  },
  {
   "cell_type": "code",
   "execution_count": null,
   "id": "a9c86704",
   "metadata": {},
   "outputs": [],
   "source": []
  }
 ],
 "metadata": {
  "kernelspec": {
   "display_name": "Python 3",
   "language": "python",
   "name": "python3"
  },
  "language_info": {
   "codemirror_mode": {
    "name": "ipython",
    "version": 3
   },
   "file_extension": ".py",
   "mimetype": "text/x-python",
   "name": "python",
   "nbconvert_exporter": "python",
   "pygments_lexer": "ipython3",
   "version": "3.8.8"
  }
 },
 "nbformat": 4,
 "nbformat_minor": 5
}
